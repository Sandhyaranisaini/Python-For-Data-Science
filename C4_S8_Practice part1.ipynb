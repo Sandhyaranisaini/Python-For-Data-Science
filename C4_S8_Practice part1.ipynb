{
 "cells": [
  {
   "cell_type": "code",
   "execution_count": 49,
   "metadata": {},
   "outputs": [],
   "source": [
    "# Write a Python function to return a list of prime numbers from a given list of integers\n",
    "def get_primes(num_list):\n",
    "    prime_nums = []\n",
    "    for num in num_list:\n",
    "        if num > 1:\n",
    "            for i in range(2, num):\n",
    "                if (num % i) == 0:\n",
    "                    break\n",
    "            else:\n",
    "                prime_nums.append(num)\n",
    "    return prime_nums"
   ]
  },
  {
   "cell_type": "code",
   "execution_count": 50,
   "metadata": {},
   "outputs": [
    {
     "data": {
      "text/plain": [
       "[2, 5]"
      ]
     },
     "execution_count": 50,
     "metadata": {},
     "output_type": "execute_result"
    }
   ],
   "source": [
    "num_list=[2,4,5,6]\n",
    "get_primes(num_list)\n"
   ]
  },
  {
   "cell_type": "code",
   "execution_count": 51,
   "metadata": {},
   "outputs": [
    {
     "name": "stdout",
     "output_type": "stream",
     "text": [
      "55\n"
     ]
    }
   ],
   "source": [
    "# Write a Python program to find the sum of natural using recursive function.\n",
    "def sum_natural(num):\n",
    "    if num == 1:\n",
    "        return 1\n",
    "    else:\n",
    "        return num + sum_natural(num-1)\n",
    "    \n",
    "    \n",
    "print(sum_natural(10))"
   ]
  },
  {
   "cell_type": "code",
   "execution_count": 52,
   "metadata": {},
   "outputs": [
    {
     "name": "stdout",
     "output_type": "stream",
     "text": [
      "Requirement already satisfied: pandas in c:\\users\\91918\\appdata\\local\\programs\\python\\python312\\lib\\site-packages (2.2.2)\n",
      "Requirement already satisfied: numpy>=1.26.0 in c:\\users\\91918\\appdata\\local\\programs\\python\\python312\\lib\\site-packages (from pandas) (2.1.1)\n",
      "Requirement already satisfied: python-dateutil>=2.8.2 in c:\\users\\91918\\appdata\\roaming\\python\\python312\\site-packages (from pandas) (2.9.0.post0)\n",
      "Requirement already satisfied: pytz>=2020.1 in c:\\users\\91918\\appdata\\local\\programs\\python\\python312\\lib\\site-packages (from pandas) (2024.1)\n",
      "Requirement already satisfied: tzdata>=2022.7 in c:\\users\\91918\\appdata\\local\\programs\\python\\python312\\lib\\site-packages (from pandas) (2024.1)\n",
      "Requirement already satisfied: six>=1.5 in c:\\users\\91918\\appdata\\roaming\\python\\python312\\site-packages (from python-dateutil>=2.8.2->pandas) (1.16.0)\n"
     ]
    },
    {
     "name": "stderr",
     "output_type": "stream",
     "text": [
      "\n",
      "[notice] A new release of pip is available: 24.0 -> 24.2\n",
      "[notice] To update, run: python.exe -m pip install --upgrade pip\n"
     ]
    }
   ],
   "source": [
    " # Load the dataset\n",
    "!pip install pandas"
   ]
  },
  {
   "cell_type": "code",
   "execution_count": 53,
   "metadata": {},
   "outputs": [
    {
     "name": "stdout",
     "output_type": "stream",
     "text": [
      "    Statistics  Python  Tableau\n",
      "0           61      86       66\n",
      "1           54      86       72\n",
      "2           56      80       78\n",
      "3           54      85       45\n",
      "4           53      84       68\n",
      "..         ...     ...      ...\n",
      "95          60      76       64\n",
      "96          59      89       70\n",
      "97          62      80       46\n",
      "98          58      89       74\n",
      "99          67      77       70\n",
      "\n",
      "[100 rows x 3 columns]\n"
     ]
    }
   ],
   "source": [
    "import pandas as pd\n",
    "data = pd.read_csv('C:/Users/91918/OneDrive/Desktop/SUDHEERA/DataScience with Gen Ai/Course4-Numpy python/Sprint8//DS1_C4_S8_Students_Scores_Data_Concept.csv')\n",
    "print(data)"
   ]
  },
  {
   "cell_type": "code",
   "execution_count": 54,
   "metadata": {},
   "outputs": [
    {
     "name": "stdout",
     "output_type": "stream",
     "text": [
      "{'Statistics': {'mean': 60.89, 'median': 60.0, 'mode': 55}, 'Python': {'mean': 81.84, 'median': 82.0, 'mode': 86}, 'Tableau': {'mean': 68.02, 'median': 69.0, 'mode': 65}}\n"
     ]
    }
   ],
   "source": [
    "import statistics as st\n",
    "import warnings\n",
    "warnings.filterwarnings('ignore')\n",
    "# Calculate the mean, median and mode scores of each column in dataset.\n",
    "def calculate_stats(data):\n",
    "    stats = {}\n",
    "    for column in data.columns:\n",
    "        column_data = data[column]\n",
    "        stats[column] = {\n",
    "            'mean': st.mean(column_data),\n",
    "            'median': st.median(column_data),\n",
    "            'mode': st.mode(column_data)\n",
    "        }\n",
    "    return stats\n",
    "print(calculate_stats(data))"
   ]
  },
  {
   "cell_type": "code",
   "execution_count": 55,
   "metadata": {},
   "outputs": [
    {
     "name": "stdout",
     "output_type": "stream",
     "text": [
      "Statistics    52.361515\n",
      "Python        18.883232\n",
      "Tableau       53.595556\n",
      "dtype: float64\n",
      "Statistics    7.236126\n",
      "Python        4.345484\n",
      "Tableau       7.320899\n",
      "dtype: float64\n"
     ]
    }
   ],
   "source": [
    "# Calculate the variance and standard deviation of each column in dataset\n",
    "print(data.var())\n",
    "print(data.std())"
   ]
  },
  {
   "cell_type": "code",
   "execution_count": 56,
   "metadata": {},
   "outputs": [
    {
     "name": "stdout",
     "output_type": "stream",
     "text": [
      "{'Statistics': [np.float64(34.5), np.float64(86.5)], 'Python': [np.float64(66.0), np.float64(98.0)], 'Tableau': [np.float64(50.125), np.float64(87.125)]}\n"
     ]
    }
   ],
   "source": [
    "# Calculate the outliers to identify skewness of each column in dataset\n",
    "def calculate_outliers(data):\n",
    "    outliers = {}\n",
    "    for col in data.columns:\n",
    "        q1 = data[col].quantile(0.25)\n",
    "        q3 = data[col].quantile(0.75)\n",
    "        iqr = q3 - q1\n",
    "        lower_bound = q1 - 1.5 * iqr\n",
    "        upper_bound = q3 + 1.5 * iqr\n",
    "        outliers[col] =  [lower_bound,upper_bound]\n",
    "    return outliers\n",
    "\n",
    "result = calculate_outliers(data)\n",
    "print(result)"
   ]
  },
  {
   "cell_type": "code",
   "execution_count": 57,
   "metadata": {},
   "outputs": [
    {
     "name": "stdout",
     "output_type": "stream",
     "text": [
      "{'Statistics': np.float64(0.20554170032246075), 'Python': np.float64(0.12281402459125029), 'Tableau': np.float64(-1.0105825536694633)}\n"
     ]
    }
   ],
   "source": [
    "#calcualte skewness of each column in dataset\n",
    "def calculate_skewness(data):\n",
    "    skewness = {}\n",
    "    for col in data.columns:\n",
    "        skewness[col] = data[col].skew()\n",
    "    return skewness\n",
    "result = calculate_skewness(data)\n",
    "print(result)"
   ]
  },
  {
   "cell_type": "code",
   "execution_count": 58,
   "metadata": {},
   "outputs": [
    {
     "data": {
      "text/plain": [
       "Statistics   -1.293399\n",
       "Python       -1.278482\n",
       "Tableau       1.579755\n",
       "dtype: float64"
      ]
     },
     "execution_count": 58,
     "metadata": {},
     "output_type": "execute_result"
    }
   ],
   "source": [
    "# Calculate the kurtosis of each column in dataset\n",
    "def calculate_kurtosis(data):\n",
    "    kurtosis = {}\n",
    "    for col in data.columns:\n",
    "        kurtosis[col] = data[col].kurtosis()\n",
    "    return data.kurtosis()\n",
    "result = calculate_kurtosis(data)\n",
    "calculate_kurtosis(data)"
   ]
  },
  {
   "cell_type": "code",
   "execution_count": 59,
   "metadata": {},
   "outputs": [
    {
     "name": "stdout",
     "output_type": "stream",
     "text": [
      "Collecting matplotlib"
     ]
    },
    {
     "name": "stderr",
     "output_type": "stream",
     "text": [
      "\n",
      "[notice] A new release of pip is available: 24.0 -> 24.2\n",
      "[notice] To update, run: python.exe -m pip install --upgrade pip\n"
     ]
    },
    {
     "name": "stdout",
     "output_type": "stream",
     "text": [
      "\n",
      "  Downloading matplotlib-3.9.2-cp312-cp312-win_amd64.whl.metadata (11 kB)\n",
      "Collecting contourpy>=1.0.1 (from matplotlib)\n",
      "  Downloading contourpy-1.3.0-cp312-cp312-win_amd64.whl.metadata (5.4 kB)\n",
      "Collecting cycler>=0.10 (from matplotlib)\n",
      "  Downloading cycler-0.12.1-py3-none-any.whl.metadata (3.8 kB)\n",
      "Collecting fonttools>=4.22.0 (from matplotlib)\n",
      "  Downloading fonttools-4.53.1-cp312-cp312-win_amd64.whl.metadata (165 kB)\n",
      "     ---------------------------------------- 0.0/165.9 kB ? eta -:--:--\n",
      "     -- ------------------------------------- 10.2/165.9 kB ? eta -:--:--\n",
      "     ------ ------------------------------ 30.7/165.9 kB 640.0 kB/s eta 0:00:01\n",
      "     --------------------- ----------------- 92.2/165.9 kB 1.1 MB/s eta 0:00:01\n",
      "     -------------------------------------- 165.9/165.9 kB 1.1 MB/s eta 0:00:00\n",
      "Collecting kiwisolver>=1.3.1 (from matplotlib)\n",
      "  Downloading kiwisolver-1.4.7-cp312-cp312-win_amd64.whl.metadata (6.4 kB)\n",
      "Requirement already satisfied: numpy>=1.23 in c:\\users\\91918\\appdata\\local\\programs\\python\\python312\\lib\\site-packages (from matplotlib) (2.1.1)\n",
      "Requirement already satisfied: packaging>=20.0 in c:\\users\\91918\\appdata\\roaming\\python\\python312\\site-packages (from matplotlib) (24.1)\n",
      "Collecting pillow>=8 (from matplotlib)\n",
      "  Downloading pillow-10.4.0-cp312-cp312-win_amd64.whl.metadata (9.3 kB)\n",
      "Collecting pyparsing>=2.3.1 (from matplotlib)\n",
      "  Downloading pyparsing-3.1.4-py3-none-any.whl.metadata (5.1 kB)\n",
      "Requirement already satisfied: python-dateutil>=2.7 in c:\\users\\91918\\appdata\\roaming\\python\\python312\\site-packages (from matplotlib) (2.9.0.post0)\n",
      "Requirement already satisfied: six>=1.5 in c:\\users\\91918\\appdata\\roaming\\python\\python312\\site-packages (from python-dateutil>=2.7->matplotlib) (1.16.0)\n",
      "Downloading matplotlib-3.9.2-cp312-cp312-win_amd64.whl (7.8 MB)\n",
      "   ---------------------------------------- 0.0/7.8 MB ? eta -:--:--\n",
      "   ---------------------------------------- 0.1/7.8 MB 2.6 MB/s eta 0:00:03\n",
      "    --------------------------------------- 0.2/7.8 MB 2.4 MB/s eta 0:00:04\n",
      "   - -------------------------------------- 0.2/7.8 MB 2.2 MB/s eta 0:00:04\n",
      "   - -------------------------------------- 0.3/7.8 MB 2.3 MB/s eta 0:00:04\n",
      "   -- ------------------------------------- 0.4/7.8 MB 2.2 MB/s eta 0:00:04\n",
      "   -- ------------------------------------- 0.5/7.8 MB 2.1 MB/s eta 0:00:04\n",
      "   -- ------------------------------------- 0.6/7.8 MB 2.2 MB/s eta 0:00:04\n",
      "   --- ------------------------------------ 0.7/7.8 MB 2.3 MB/s eta 0:00:04\n",
      "   ---- ----------------------------------- 0.8/7.8 MB 2.2 MB/s eta 0:00:04\n",
      "   ---- ----------------------------------- 0.9/7.8 MB 2.2 MB/s eta 0:00:04\n",
      "   ----- ---------------------------------- 1.0/7.8 MB 2.3 MB/s eta 0:00:04\n",
      "   ----- ---------------------------------- 1.2/7.8 MB 2.3 MB/s eta 0:00:03\n",
      "   ------ --------------------------------- 1.2/7.8 MB 2.2 MB/s eta 0:00:03\n",
      "   ------ --------------------------------- 1.4/7.8 MB 2.3 MB/s eta 0:00:03\n",
      "   ------- -------------------------------- 1.5/7.8 MB 2.4 MB/s eta 0:00:03\n",
      "   ------- -------------------------------- 1.6/7.8 MB 2.2 MB/s eta 0:00:03\n",
      "   -------- ------------------------------- 1.7/7.8 MB 2.4 MB/s eta 0:00:03\n",
      "   --------- ------------------------------ 1.9/7.8 MB 2.4 MB/s eta 0:00:03\n",
      "   ---------- ----------------------------- 2.0/7.8 MB 2.5 MB/s eta 0:00:03\n",
      "   ---------- ----------------------------- 2.1/7.8 MB 2.5 MB/s eta 0:00:03\n",
      "   ----------- ---------------------------- 2.3/7.8 MB 2.6 MB/s eta 0:00:03\n",
      "   ------------ --------------------------- 2.4/7.8 MB 2.6 MB/s eta 0:00:03\n",
      "   ------------- -------------------------- 2.6/7.8 MB 2.7 MB/s eta 0:00:02\n",
      "   ------------- -------------------------- 2.7/7.8 MB 2.7 MB/s eta 0:00:02\n",
      "   -------------- ------------------------- 2.9/7.8 MB 2.8 MB/s eta 0:00:02\n",
      "   --------------- ------------------------ 3.0/7.8 MB 2.8 MB/s eta 0:00:02\n",
      "   ---------------- ----------------------- 3.2/7.8 MB 2.8 MB/s eta 0:00:02\n",
      "   ----------------- ---------------------- 3.4/7.8 MB 2.9 MB/s eta 0:00:02\n",
      "   ----------------- ---------------------- 3.5/7.8 MB 2.9 MB/s eta 0:00:02\n",
      "   ------------------ --------------------- 3.7/7.8 MB 3.0 MB/s eta 0:00:02\n",
      "   ------------------- -------------------- 3.8/7.8 MB 2.9 MB/s eta 0:00:02\n",
      "   -------------------- ------------------- 4.0/7.8 MB 3.0 MB/s eta 0:00:02\n",
      "   --------------------- ------------------ 4.2/7.8 MB 3.1 MB/s eta 0:00:02\n",
      "   ---------------------- ----------------- 4.4/7.8 MB 3.1 MB/s eta 0:00:02\n",
      "   ----------------------- ---------------- 4.6/7.8 MB 3.2 MB/s eta 0:00:02\n",
      "   ------------------------ --------------- 4.8/7.8 MB 3.2 MB/s eta 0:00:01\n",
      "   ------------------------- -------------- 5.0/7.8 MB 3.3 MB/s eta 0:00:01\n",
      "   --------------------------- ------------ 5.3/7.8 MB 3.4 MB/s eta 0:00:01\n",
      "   --------------------------- ------------ 5.4/7.8 MB 3.4 MB/s eta 0:00:01\n",
      "   ---------------------------- ----------- 5.7/7.8 MB 3.5 MB/s eta 0:00:01\n",
      "   ------------------------------ --------- 5.9/7.8 MB 3.5 MB/s eta 0:00:01\n",
      "   ------------------------------- -------- 6.1/7.8 MB 3.6 MB/s eta 0:00:01\n",
      "   -------------------------------- ------- 6.4/7.8 MB 3.6 MB/s eta 0:00:01\n",
      "   ---------------------------------- ----- 6.7/7.8 MB 3.7 MB/s eta 0:00:01\n",
      "   ---------------------------------- ----- 6.8/7.8 MB 3.7 MB/s eta 0:00:01\n",
      "   ------------------------------------ --- 7.2/7.8 MB 3.8 MB/s eta 0:00:01\n",
      "   -------------------------------------- - 7.6/7.8 MB 3.9 MB/s eta 0:00:01\n",
      "   ---------------------------------------  7.7/7.8 MB 3.9 MB/s eta 0:00:01\n",
      "   ---------------------------------------- 7.8/7.8 MB 3.9 MB/s eta 0:00:00\n",
      "Downloading contourpy-1.3.0-cp312-cp312-win_amd64.whl (218 kB)\n",
      "   ---------------------------------------- 0.0/218.3 kB ? eta -:--:--\n",
      "   ---------------------------------------- 218.3/218.3 kB 6.7 MB/s eta 0:00:00\n",
      "Downloading cycler-0.12.1-py3-none-any.whl (8.3 kB)\n",
      "Downloading fonttools-4.53.1-cp312-cp312-win_amd64.whl (2.2 MB)\n",
      "   ---------------------------------------- 0.0/2.2 MB ? eta -:--:--\n",
      "   -------- ------------------------------- 0.5/2.2 MB 10.0 MB/s eta 0:00:01\n",
      "   -------------- ------------------------- 0.8/2.2 MB 8.3 MB/s eta 0:00:01\n",
      "   ------------------- -------------------- 1.0/2.2 MB 7.3 MB/s eta 0:00:01\n",
      "   -------------------------- ------------- 1.4/2.2 MB 8.3 MB/s eta 0:00:01\n",
      "   --------------------------------- ------ 1.8/2.2 MB 8.2 MB/s eta 0:00:01\n",
      "   ------------------------------------- -- 2.1/2.2 MB 8.8 MB/s eta 0:00:01\n",
      "   ---------------------------------------- 2.2/2.2 MB 7.7 MB/s eta 0:00:00\n",
      "Downloading kiwisolver-1.4.7-cp312-cp312-win_amd64.whl (55 kB)\n",
      "   ---------------------------------------- 0.0/55.9 kB ? eta -:--:--\n",
      "   ---------------------------------------- 55.9/55.9 kB ? eta 0:00:00\n",
      "Downloading pillow-10.4.0-cp312-cp312-win_amd64.whl (2.6 MB)\n",
      "   ---------------------------------------- 0.0/2.6 MB ? eta -:--:--\n",
      "   ------ --------------------------------- 0.4/2.6 MB 12.2 MB/s eta 0:00:01\n",
      "   ---------- ----------------------------- 0.7/2.6 MB 8.8 MB/s eta 0:00:01\n",
      "   ------------------ --------------------- 1.2/2.6 MB 9.2 MB/s eta 0:00:01\n",
      "   --------------------- ------------------ 1.4/2.6 MB 8.9 MB/s eta 0:00:01\n",
      "   ---------------------------- ----------- 1.8/2.6 MB 8.8 MB/s eta 0:00:01\n",
      "   ----------------------------------- ---- 2.3/2.6 MB 9.6 MB/s eta 0:00:01\n",
      "   ---------------------------------------- 2.6/2.6 MB 9.0 MB/s eta 0:00:00\n",
      "Downloading pyparsing-3.1.4-py3-none-any.whl (104 kB)\n",
      "   ---------------------------------------- 0.0/104.1 kB ? eta -:--:--\n",
      "   ---------------------------------------- 104.1/104.1 kB 5.9 MB/s eta 0:00:00\n",
      "Installing collected packages: pyparsing, pillow, kiwisolver, fonttools, cycler, contourpy, matplotlib\n",
      "Successfully installed contourpy-1.3.0 cycler-0.12.1 fonttools-4.53.1 kiwisolver-1.4.7 matplotlib-3.9.2 pillow-10.4.0 pyparsing-3.1.4\n"
     ]
    }
   ],
   "source": [
    "!pip install matplotlib"
   ]
  },
  {
   "cell_type": "code",
   "execution_count": 60,
   "metadata": {},
   "outputs": [
    {
     "data": {
      "text/plain": [
       "<Axes: >"
      ]
     },
     "execution_count": 60,
     "metadata": {},
     "output_type": "execute_result"
    },
    {
     "data": {
      "image/png": "[encoded data removed]",
      "text/plain": [
       "<Figure size 640x480 with 1 Axes>"
      ]
     },
     "metadata": {},
     "output_type": "display_data"
    }
   ],
   "source": [
    "# Present the distribution for each column in dataset using box plots (vertical option)\n",
    "data.boxplot(vert=False)"
   ]
  },
  {
   "cell_type": "code",
   "execution_count": null,
   "metadata": {},
   "outputs": [],
   "source": [
    "# Write a Python program to design a shopping cart application with the following basic functionality:\n",
    "available_biscuits = 5\n",
    "available_cereals = 10\n",
    "available_chicken = 20\n",
    "available_oats = 20\n",
    "available_rice = 30\n",
    "cost_biscuits = 2.5\n",
    "cost_cereals = 3.5\n",
    "cost_chicken = 13.3\n",
    "cost_oats = 3.9\n",
    "cost_rice = 4.5\n",
    "stock_list = [available_biscuits, available_cereals, available_chicken, available_oats, available_rice]\n",
    "\n",
    "cost_list = [cost_biscuits, cost_cereals, cost_chicken, cost_oats, cost_rice]\n"
   ]
  },
  {
   "cell_type": "code",
   "execution_count": null,
   "metadata": {},
   "outputs": [],
   "source": [
    "# 1. Display the list of items available in the store, along with the corresponding quantities currently in stock and the cost per item.\n",
    "items = [\"Biscuits\", \"Cereals\", \"Chicken\", \"Oats\", \"Rice\"]\n",
    "stock = [5, 10, 20, 20, 30]\n",
    "\n",
    "cost = [2.5, 3.5, 13.3, 3.9, 4.5]\n",
    "print(\"Available items and their details:\")\n",
    "for i in range(len(items)):\n",
    "    print(f\"{i+1}. {items[i]} - Stock: {stock[i]} - Cost: ${cost[i]}\")\n",
    "\n"
   ]
  },
  {
   "cell_type": "code",
   "execution_count": null,
   "metadata": {},
   "outputs": [],
   "source": [
    "\n",
    "# 2. Ask the customer to enter the number of quantities required for each item.\n",
    "\n"
   ]
  },
  {
   "cell_type": "code",
   "execution_count": null,
   "metadata": {},
   "outputs": [],
   "source": [
    "\n",
    "# 3. Display a message if the item is out of stock.\n",
    "def check_stock(item, quantity, stock_list):\n",
    "    if stock_list[items.index(item)] < quantity:\n",
    "        print(f\"Sorry, we are out of stock for {item}.\")\n",
    "    else:\n",
    "        print(f\"{quantity} {item} will be delivered to you.\")\n",
    "        stock_list[items.index(item)] -= quantity\n",
    "        print(f\"Remaining stock for {item}: {stock_list[items.index(item)]}\")\n",
    "        print(\"Thank you for shopping with us!\")    \n",
    "        print(\"The stock levels have been updated accordingly.\")\n",
    "        print(\"Available items and their details:\")\n",
    "        for i in range(len(items)):\n",
    "            print(f\"{i+1}. {items[i]} - Stock: {stock_list[i]} - Cost: ${cost[i]}\")\n",
    "            \n"
   ]
  },
  {
   "cell_type": "code",
   "execution_count": null,
   "metadata": {},
   "outputs": [],
   "source": [
    "# 4. Accept customer name and delivery address as the input.\n",
    "def get_customer_info():\n",
    "    customer_name = input(\"Enter customer name: \")\n",
    "    delivery_address = input(\"Enter delivery address: \")\n",
    "    return customer_name, delivery_address\n",
    "\n"
   ]
  },
  {
   "cell_type": "code",
   "execution_count": null,
   "metadata": {},
   "outputs": [],
   "source": [
    "\n",
    "# Calculate delivery charges based on the distance of the delivery address from the store, as shown below:\n",
    "# $10 for up to 5 miles \n",
    "# $12 between 5-10 miles\n",
    "# $14 between 10-15 miles\n",
    "# $20 for beyond 15 miles\n",
    "\n",
    "# Display the final bill with the items purchased and the customer details.\n",
    "\n",
    "\n",
    "\n",
    "\n",
    "\n",
    "\n",
    "\n",
    "\n",
    "\n",
    "\n"
   ]
  },
  {
   "cell_type": "code",
   "execution_count": 62,
   "metadata": {},
   "outputs": [
    {
     "name": "stdout",
     "output_type": "stream",
     "text": [
      "Invalid input. Please enter 'yes' or 'no'.\n",
      "Thank you for shopping with us!\n",
      "The stock levels have been updated accordingly.\n",
      "Available items and their details:\n"
     ]
    }
   ],
   "source": [
    "\n",
    "# The program should keep running in an infinite loop and prompt the user to enter “yes” to continue and enter “no” to terminate the program.\n",
    "while True:\n",
    "    user_input = input(\"Do you want to continue shopping? (yes/no): \").lower()\n",
    "    if user_input == \"no\":\n",
    "        break\n",
    "    elif user_input == \"yes\":\n",
    "        continue\n",
    "    else:\n",
    "        print(\"Invalid input. Please enter 'yes' or 'no'.\")\n",
    "\n",
    "        print(\"Thank you for shopping with us!\")\n",
    "        print(\"The stock levels have been updated accordingly.\")\n",
    "        print(\"Available items and their details:\")\n",
    "        \n"
   ]
  },
  {
   "cell_type": "code",
   "execution_count": 61,
   "metadata": {},
   "outputs": [],
   "source": [
    "# The items sold to a customer must automatically be updated to display the correct stock levels to the next customer.\n",
    "stock_list = []\n",
    "cost_list = []\n",
    "items = []\n",
    "total_cost = 0\n",
    "customer_items = []\n",
    "\n",
    "\n",
    "def shopping_cart():\n",
    "    total_cost = 0\n",
    "    for i in range(len(items)):\n",
    "        quantity = int(input(f\"Enter the quantity for {items[i]}: \"))\n",
    "        if quantity > stock_list[i]:\n",
    "            print(f\"Sorry, {items[i]} is out of stock.\")\n",
    "        else:\n",
    "            stock_list[i] -= quantity\n",
    "            total_cost += cost_list[i] * quantity\n",
    "            customer_items.append((items[i], quantity))\n",
    "    print(\"Your total cost is: $\", total_cost)\n",
    "    return customer_items, total_cost\n",
    "\n",
    "\n",
    "available_biscuits = 5\n",
    "available_cereals = 10\n",
    "available_chicken = 20\n",
    "available_oats = 20\n",
    "available_rice = 30\n",
    "cost_biscuits = 2.5\n",
    "cost_cereals = 3.5\n",
    "cost_chicken = 13.3\n",
    "cost_oats = 3.9\n",
    "cost_rice = 4.5\n",
    "\n"
   ]
  }
 ],
 "metadata": {
  "kernelspec": {
   "display_name": "Python 3",
   "language": "python",
   "name": "python3"
  },
  "language_info": {
   "codemirror_mode": {
    "name": "ipython",
    "version": 3
   },
   "file_extension": ".py",
   "mimetype": "text/x-python",
   "name": "python",
   "nbconvert_exporter": "python",
   "pygments_lexer": "ipython3",
   "version": "3.12.2"
  }
 },
 "nbformat": 4,
 "nbformat_minor": 2
}
