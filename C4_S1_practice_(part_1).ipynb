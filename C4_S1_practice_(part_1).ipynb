{
  "cells": [
    {
      "cell_type": "code",
      "execution_count": 25,
      "id": "bf3c15d6-e115-4fd7-adaf-f8ae50672de5",
      "metadata": {
        "colab": {
          "base_uri": "https://localhost:8080/"
        },
        "id": "bf3c15d6-e115-4fd7-adaf-f8ae50672de5",
        "outputId": "e20300ba-cb59-46cd-dd0d-0bbafb822559"
      },
      "outputs": [
        {
          "output_type": "stream",
          "name": "stdout",
          "text": [
            "HR IDs: [1 2 3]\n",
            "IT IDs: [ 4  5  6  7  8  9 10 11 12 13 14 15 16 17 18]\n",
            "Finance IDs: [19 20 21 22 23]\n",
            "Sales IDs: [24 25 26 27 28 29 30]\n"
          ]
        }
      ],
      "source": [
        "#Part_1\n",
        "#task1\n",
        "import numpy as np\n",
        "\n",
        "# Define the number of employees for each department\n",
        "HR_count = 3\n",
        "IT_count = 15\n",
        "Finance_count = 5\n",
        "Sales_count = 7\n",
        "\n",
        "# Create employee ID arrays for each department\n",
        "HR_ids = np.arange(1, HR_count + 1)\n",
        "IT_ids = np.arange(HR_count + 1, HR_count + IT_count + 1)\n",
        "Finance_ids = np.arange(HR_count + IT_count + 1, HR_count + IT_count + Finance_count + 1)\n",
        "Sales_ids = np.arange(HR_count + IT_count + Finance_count + 1, HR_count + IT_count + Finance_count + Sales_count + 1)\n",
        "\n",
        "# Print the employee IDs for each department\n",
        "print(\"HR IDs:\", HR_ids)\n",
        "print(\"IT IDs:\", IT_ids)\n",
        "print(\"Finance IDs:\", Finance_ids)\n",
        "print(\"Sales IDs:\", Sales_ids)"
      ]
    },
    {
      "cell_type": "code",
      "execution_count": 26,
      "id": "b9a67c98-be2a-4140-80ad-5bfa759fac3f",
      "metadata": {
        "colab": {
          "base_uri": "https://localhost:8080/"
        },
        "id": "b9a67c98-be2a-4140-80ad-5bfa759fac3f",
        "outputId": "05b787c6-cfee-4475-e747-01578eeb2f92"
      },
      "outputs": [
        {
          "output_type": "stream",
          "name": "stdout",
          "text": [
            "HR Salaries: [50 60 57]\n",
            "IT Salaries: [67 67 67 67 67 67 67 67 67 67 67 67 67 67 67]\n",
            "Finance Salaries: [60 65 50 70 87]\n",
            "Sales Salaries: [50 60 65 90 56 65 71]\n"
          ]
        }
      ],
      "source": [
        "#task2\n",
        "import numpy as np\n",
        "\n",
        "# Create salary arrays for each department\n",
        "HR_salaries = np.array([50, 60, 57])\n",
        "IT_salaries = np.full(15, 67)  # Create an array of 15 elements with the value 67\n",
        "Finance_salaries = np.array([60, 65, 50, 70, 87])\n",
        "Sales_salaries = np.array([50, 60, 65, 90, 56, 65, 71])\n",
        "\n",
        "# Print the salary arrays\n",
        "print(\"HR Salaries:\", HR_salaries)\n",
        "print(\"IT Salaries:\", IT_salaries)\n",
        "print(\"Finance Salaries:\", Finance_salaries)\n",
        "print(\"Sales Salaries:\", Sales_salaries)"
      ]
    },
    {
      "cell_type": "code",
      "execution_count": 27,
      "id": "58c9de2e-3dbc-463f-8ed4-db25714c0ad6",
      "metadata": {
        "colab": {
          "base_uri": "https://localhost:8080/"
        },
        "id": "58c9de2e-3dbc-463f-8ed4-db25714c0ad6",
        "outputId": "6185e50e-674e-4bd0-e2bd-d67aad097911"
      },
      "outputs": [
        {
          "output_type": "stream",
          "name": "stdout",
          "text": [
            "Average salaries:\n",
            "HR: 55.666666666666664\n",
            "IT: 67.0\n",
            "Finance: 66.4\n",
            "Sales: 65.28571428571429\n",
            "Department with highest average salary: IT\n"
          ]
        }
      ],
      "source": [
        "#task3\n",
        "import numpy as np\n",
        "\n",
        "# Calculate average salaries for each department\n",
        "HR_avg_salary = np.mean(HR_salaries)\n",
        "IT_avg_salary = np.mean(IT_salaries)\n",
        "Finance_avg_salary = np.mean(Finance_salaries)\n",
        "Sales_avg_salary = np.mean(Sales_salaries)\n",
        "\n",
        "# Create a dictionary to store average salaries\n",
        "avg_salaries = {\n",
        "    \"HR\": HR_avg_salary,\n",
        "    \"IT\": IT_avg_salary,\n",
        "    \"Finance\": Finance_avg_salary,\n",
        "    \"Sales\": Sales_avg_salary\n",
        "}\n",
        "\n",
        "# Find the department with the highest average salary\n",
        "highest_avg_salary_dept = max(avg_salaries, key=avg_salaries.get)\n",
        "\n",
        "print(\"Average salaries:\")\n",
        "for dept, avg_salary in avg_salaries.items():\n",
        "    print(f\"{dept}: {avg_salary}\")\n",
        "\n",
        "print(f\"Department with highest average salary: {highest_avg_salary_dept}\")"
      ]
    },
    {
      "cell_type": "code",
      "execution_count": 28,
      "id": "a7044a4d-3390-4f4b-a4e7-bb736210bff4",
      "metadata": {
        "colab": {
          "base_uri": "https://localhost:8080/"
        },
        "id": "a7044a4d-3390-4f4b-a4e7-bb736210bff4",
        "outputId": "752332c9-6d36-4975-f489-43b451d23b8a"
      },
      "outputs": [
        {
          "output_type": "stream",
          "name": "stdout",
          "text": [
            "Highest salary in HR: 60\n",
            "Highest salary in Finance: 87\n"
          ]
        }
      ],
      "source": [
        "#task4\n",
        "import numpy as np\n",
        "\n",
        "# Find the highest salaries in HR and Finance\n",
        "HR_highest_salary = np.max(HR_salaries)\n",
        "Finance_highest_salary = np.max(Finance_salaries)\n",
        "\n",
        "print(\"Highest salary in HR:\", HR_highest_salary)\n",
        "print(\"Highest salary in Finance:\", Finance_highest_salary)"
      ]
    },
    {
      "cell_type": "code",
      "execution_count": 29,
      "id": "506b59ce-3334-44cd-b491-7c7b54c42d95",
      "metadata": {
        "colab": {
          "base_uri": "https://localhost:8080/"
        },
        "id": "506b59ce-3334-44cd-b491-7c7b54c42d95",
        "outputId": "44d38f62-4702-4423-d0f7-ddbd7c102d23"
      },
      "outputs": [
        {
          "output_type": "stream",
          "name": "stdout",
          "text": [
            "Updated IT salaries: [70.35 70.35 70.35 70.35 70.35 70.35 70.35 70.35 70.35 70.35 70.35 70.35\n",
            " 70.35 70.35 70.35]\n"
          ]
        }
      ],
      "source": [
        "#task5\n",
        "import numpy as np\n",
        "\n",
        "IT_salaries = IT_salaries.astype(np.float64)\n",
        "\n",
        "it_bonus = IT_salaries * 0.05\n",
        "\n",
        "# Update IT salaries by adding the bonus\n",
        "IT_salaries += it_bonus\n",
        "\n",
        "print(\"Updated IT salaries:\", IT_salaries)"
      ]
    }
  ],
  "metadata": {
    "kernelspec": {
      "display_name": "Python 3 (ipykernel)",
      "language": "python",
      "name": "python3"
    },
    "language_info": {
      "codemirror_mode": {
        "name": "ipython",
        "version": 3
      },
      "file_extension": ".py",
      "mimetype": "text/x-python",
      "name": "python",
      "nbconvert_exporter": "python",
      "pygments_lexer": "ipython3",
      "version": "3.12.4"
    },
    "colab": {
      "provenance": []
    }
  },
  "nbformat": 4,
  "nbformat_minor": 5
}